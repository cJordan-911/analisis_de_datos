{
 "cells": [
  {
   "cell_type": "code",
   "execution_count": 2,
   "metadata": {},
   "outputs": [
    {
     "name": "stdout",
     "output_type": "stream",
     "text": [
      "El numero es 5\n",
      "El numero es positiva\n"
     ]
    }
   ],
   "source": [
    "vq=5;\n",
    "\n",
    "if vq == 5:\n",
    "    print(\"El numero es 5\")\n",
    "    print(\"El numero es positiva\")\n",
    "else:\n",
    "    print(\"El numero no es 5\")\n",
    "    print(\"El numero es menor que 6\")"
   ]
  }
 ],
 "metadata": {
  "kernelspec": {
   "display_name": "Python 3",
   "language": "python",
   "name": "python3"
  },
  "language_info": {
   "codemirror_mode": {
    "name": "ipython",
    "version": 3
   },
   "file_extension": ".py",
   "mimetype": "text/x-python",
   "name": "python",
   "nbconvert_exporter": "python",
   "pygments_lexer": "ipython3",
   "version": "3.12.1"
  }
 },
 "nbformat": 4,
 "nbformat_minor": 2
}
